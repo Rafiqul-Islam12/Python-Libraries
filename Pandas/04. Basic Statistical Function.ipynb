{
 "cells": [
  {
   "cell_type": "code",
   "execution_count": 1,
   "id": "87cf0ce6",
   "metadata": {},
   "outputs": [],
   "source": [
    "import pandas as pd"
   ]
  },
  {
   "cell_type": "code",
   "execution_count": 2,
   "id": "2c5e1442",
   "metadata": {},
   "outputs": [
    {
     "data": {
      "text/html": [
       "<div>\n",
       "<style scoped>\n",
       "    .dataframe tbody tr th:only-of-type {\n",
       "        vertical-align: middle;\n",
       "    }\n",
       "\n",
       "    .dataframe tbody tr th {\n",
       "        vertical-align: top;\n",
       "    }\n",
       "\n",
       "    .dataframe thead th {\n",
       "        text-align: right;\n",
       "    }\n",
       "</style>\n",
       "<table border=\"1\" class=\"dataframe\">\n",
       "  <thead>\n",
       "    <tr style=\"text-align: right;\">\n",
       "      <th></th>\n",
       "      <th>index</th>\n",
       "      <th>Date</th>\n",
       "      <th>Week Day</th>\n",
       "      <th>Total Screen Time</th>\n",
       "      <th>Social Networking</th>\n",
       "      <th>Reading and Reference</th>\n",
       "      <th>Other</th>\n",
       "      <th>Productivity</th>\n",
       "      <th>Health and Fitness</th>\n",
       "      <th>Entertainment</th>\n",
       "      <th>Creativity</th>\n",
       "      <th>Yoga</th>\n",
       "    </tr>\n",
       "  </thead>\n",
       "  <tbody>\n",
       "    <tr>\n",
       "      <th>0</th>\n",
       "      <td>0</td>\n",
       "      <td>04/17/19</td>\n",
       "      <td>Wednesday</td>\n",
       "      <td>187</td>\n",
       "      <td>89</td>\n",
       "      <td>17</td>\n",
       "      <td>41</td>\n",
       "      <td>22</td>\n",
       "      <td>0</td>\n",
       "      <td>0</td>\n",
       "      <td>0</td>\n",
       "      <td>0</td>\n",
       "    </tr>\n",
       "    <tr>\n",
       "      <th>1</th>\n",
       "      <td>1</td>\n",
       "      <td>04/18/19</td>\n",
       "      <td>Thursday</td>\n",
       "      <td>123</td>\n",
       "      <td>78</td>\n",
       "      <td>17</td>\n",
       "      <td>8</td>\n",
       "      <td>9</td>\n",
       "      <td>0</td>\n",
       "      <td>0</td>\n",
       "      <td>0</td>\n",
       "      <td>0</td>\n",
       "    </tr>\n",
       "    <tr>\n",
       "      <th>2</th>\n",
       "      <td>2</td>\n",
       "      <td>04/19/19</td>\n",
       "      <td>Friday</td>\n",
       "      <td>112</td>\n",
       "      <td>52</td>\n",
       "      <td>40</td>\n",
       "      <td>8</td>\n",
       "      <td>4</td>\n",
       "      <td>0</td>\n",
       "      <td>3</td>\n",
       "      <td>0</td>\n",
       "      <td>0</td>\n",
       "    </tr>\n",
       "    <tr>\n",
       "      <th>3</th>\n",
       "      <td>3</td>\n",
       "      <td>04/20/19</td>\n",
       "      <td>Saturday</td>\n",
       "      <td>101</td>\n",
       "      <td>69</td>\n",
       "      <td>9</td>\n",
       "      <td>38</td>\n",
       "      <td>2</td>\n",
       "      <td>0</td>\n",
       "      <td>3</td>\n",
       "      <td>0</td>\n",
       "      <td>0</td>\n",
       "    </tr>\n",
       "    <tr>\n",
       "      <th>4</th>\n",
       "      <td>4</td>\n",
       "      <td>04/21/19</td>\n",
       "      <td>Sunday</td>\n",
       "      <td>56</td>\n",
       "      <td>35</td>\n",
       "      <td>2</td>\n",
       "      <td>43</td>\n",
       "      <td>3</td>\n",
       "      <td>0</td>\n",
       "      <td>1</td>\n",
       "      <td>1</td>\n",
       "      <td>0</td>\n",
       "    </tr>\n",
       "  </tbody>\n",
       "</table>\n",
       "</div>"
      ],
      "text/plain": [
       "   index      Date   Week Day  Total Screen Time   Social Networking  \\\n",
       "0      0  04/17/19  Wednesday                 187                 89   \n",
       "1      1  04/18/19   Thursday                 123                 78   \n",
       "2      2  04/19/19     Friday                 112                 52   \n",
       "3      3  04/20/19   Saturday                 101                 69   \n",
       "4      4  04/21/19     Sunday                  56                 35   \n",
       "\n",
       "   Reading and Reference  Other  Productivity  Health and Fitness  \\\n",
       "0                     17     41            22                   0   \n",
       "1                     17      8             9                   0   \n",
       "2                     40      8             4                   0   \n",
       "3                      9     38             2                   0   \n",
       "4                      2     43             3                   0   \n",
       "\n",
       "   Entertainment  Creativity  Yoga  \n",
       "0              0           0     0  \n",
       "1              0           0     0  \n",
       "2              3           0     0  \n",
       "3              3           0     0  \n",
       "4              1           1     0  "
      ]
     },
     "execution_count": 2,
     "metadata": {},
     "output_type": "execute_result"
    }
   ],
   "source": [
    "url = 'https://raw.githubusercontent.com/rashakil-ds/Public-Datasets/main/Screen%20Time%20Data.csv'\n",
    "df = pd.read_csv(url)\n",
    "df.head()"
   ]
  },
  {
   "cell_type": "code",
   "execution_count": 3,
   "id": "d4bfaeed",
   "metadata": {},
   "outputs": [
    {
     "data": {
      "text/plain": [
       "(28, 12)"
      ]
     },
     "execution_count": 3,
     "metadata": {},
     "output_type": "execute_result"
    }
   ],
   "source": [
    "df.shape"
   ]
  },
  {
   "cell_type": "code",
   "execution_count": 4,
   "id": "22113927",
   "metadata": {},
   "outputs": [
    {
     "data": {
      "text/plain": [
       "RangeIndex(start=0, stop=28, step=1)"
      ]
     },
     "execution_count": 4,
     "metadata": {},
     "output_type": "execute_result"
    }
   ],
   "source": [
    "df.index"
   ]
  },
  {
   "cell_type": "code",
   "execution_count": 5,
   "id": "7f0b5cd8",
   "metadata": {},
   "outputs": [
    {
     "data": {
      "text/plain": [
       "28"
      ]
     },
     "execution_count": 5,
     "metadata": {},
     "output_type": "execute_result"
    }
   ],
   "source": [
    "len(df)"
   ]
  },
  {
   "cell_type": "code",
   "execution_count": 6,
   "id": "845be9d8",
   "metadata": {},
   "outputs": [
    {
     "data": {
      "text/plain": [
       "Index(['index', 'Date', 'Week Day', 'Total Screen Time ', 'Social Networking',\n",
       "       'Reading and Reference', 'Other', 'Productivity', 'Health and Fitness',\n",
       "       'Entertainment', 'Creativity', 'Yoga'],\n",
       "      dtype='object')"
      ]
     },
     "execution_count": 6,
     "metadata": {},
     "output_type": "execute_result"
    }
   ],
   "source": [
    "df.columns"
   ]
  },
  {
   "cell_type": "markdown",
   "id": "adfed97b",
   "metadata": {},
   "source": [
    "#### ***Maximum Value***"
   ]
  },
  {
   "cell_type": "code",
   "execution_count": 9,
   "id": "72dc525b",
   "metadata": {},
   "outputs": [
    {
     "data": {
      "text/plain": [
       "np.int64(198)"
      ]
     },
     "execution_count": 9,
     "metadata": {},
     "output_type": "execute_result"
    }
   ],
   "source": [
    "df['Total Screen Time '].max()"
   ]
  },
  {
   "cell_type": "markdown",
   "id": "663ad534",
   "metadata": {},
   "source": [
    "#### ***Minimum Value***"
   ]
  },
  {
   "cell_type": "code",
   "execution_count": 11,
   "id": "7fd76250",
   "metadata": {},
   "outputs": [
    {
     "data": {
      "text/plain": [
       "Total Screen Time     52\n",
       "dtype: int64"
      ]
     },
     "execution_count": 11,
     "metadata": {},
     "output_type": "execute_result"
    }
   ],
   "source": [
    "df[['Total Screen Time ']].min()"
   ]
  },
  {
   "cell_type": "markdown",
   "id": "1a4df748",
   "metadata": {},
   "source": [
    "#### ***Standred Deviattion***"
   ]
  },
  {
   "cell_type": "code",
   "execution_count": 14,
   "id": "6cb18d79",
   "metadata": {},
   "outputs": [
    {
     "data": {
      "text/plain": [
       "np.float64(43.562322320164775)"
      ]
     },
     "execution_count": 14,
     "metadata": {},
     "output_type": "execute_result"
    }
   ],
   "source": [
    "df['Total Screen Time '].std()"
   ]
  },
  {
   "cell_type": "markdown",
   "id": "059966c3",
   "metadata": {},
   "source": [
    "#### ***Mean***"
   ]
  },
  {
   "cell_type": "code",
   "execution_count": 12,
   "id": "b72aff13",
   "metadata": {},
   "outputs": [
    {
     "data": {
      "text/plain": [
       "np.float64(113.25)"
      ]
     },
     "execution_count": 12,
     "metadata": {},
     "output_type": "execute_result"
    }
   ],
   "source": [
    "df['Total Screen Time '].mean()"
   ]
  },
  {
   "cell_type": "markdown",
   "id": "2da53183",
   "metadata": {},
   "source": [
    "#### ***Mode***"
   ]
  },
  {
   "cell_type": "code",
   "execution_count": 13,
   "id": "22a08725",
   "metadata": {},
   "outputs": [
    {
     "data": {
      "text/plain": [
       "0    0\n",
       "Name: Entertainment, dtype: int64"
      ]
     },
     "execution_count": 13,
     "metadata": {},
     "output_type": "execute_result"
    }
   ],
   "source": [
    "df['Entertainment'].mode()"
   ]
  },
  {
   "cell_type": "markdown",
   "id": "8947192d",
   "metadata": {},
   "source": [
    "#### ***Values Counts***"
   ]
  },
  {
   "cell_type": "code",
   "execution_count": 15,
   "id": "1939a581",
   "metadata": {},
   "outputs": [
    {
     "data": {
      "text/plain": [
       "Entertainment\n",
       "0     20\n",
       "1      4\n",
       "3      2\n",
       "32     1\n",
       "9      1\n",
       "Name: count, dtype: int64"
      ]
     },
     "execution_count": 15,
     "metadata": {},
     "output_type": "execute_result"
    }
   ],
   "source": [
    "df['Entertainment'].value_counts()"
   ]
  },
  {
   "cell_type": "markdown",
   "id": "03fb3e3f",
   "metadata": {},
   "source": [
    "#### ***Quartile***"
   ]
  },
  {
   "cell_type": "code",
   "execution_count": 16,
   "id": "719e9050",
   "metadata": {},
   "outputs": [
    {
     "data": {
      "text/plain": [
       "np.float64(83.5)"
      ]
     },
     "execution_count": 16,
     "metadata": {},
     "output_type": "execute_result"
    }
   ],
   "source": [
    "#25%\n",
    "df['Total Screen Time '].quantile(0.25)"
   ]
  },
  {
   "cell_type": "code",
   "execution_count": 17,
   "id": "8b723d6c",
   "metadata": {},
   "outputs": [
    {
     "data": {
      "text/plain": [
       "np.float64(111.0)"
      ]
     },
     "execution_count": 17,
     "metadata": {},
     "output_type": "execute_result"
    }
   ],
   "source": [
    "#50%\n",
    "df['Total Screen Time '].quantile(0.50)"
   ]
  },
  {
   "cell_type": "code",
   "execution_count": 18,
   "id": "a1f270be",
   "metadata": {},
   "outputs": [
    {
     "data": {
      "text/plain": [
       "np.float64(137.25)"
      ]
     },
     "execution_count": 18,
     "metadata": {},
     "output_type": "execute_result"
    }
   ],
   "source": [
    "#75%\n",
    "df['Total Screen Time '].quantile(0.75)"
   ]
  },
  {
   "cell_type": "code",
   "execution_count": 19,
   "id": "857f01c0",
   "metadata": {},
   "outputs": [
    {
     "data": {
      "text/plain": [
       "np.float64(198.0)"
      ]
     },
     "execution_count": 19,
     "metadata": {},
     "output_type": "execute_result"
    }
   ],
   "source": [
    "#100%\n",
    "df['Total Screen Time '].quantile(1)"
   ]
  },
  {
   "cell_type": "code",
   "execution_count": 20,
   "id": "dafe1de8",
   "metadata": {},
   "outputs": [
    {
     "data": {
      "text/plain": [
       "np.float64(52.0)"
      ]
     },
     "execution_count": 20,
     "metadata": {},
     "output_type": "execute_result"
    }
   ],
   "source": [
    "#0%\n",
    "df['Total Screen Time '].quantile(0)"
   ]
  },
  {
   "cell_type": "markdown",
   "id": "59f16984",
   "metadata": {},
   "source": [
    "#### ***Describe All***"
   ]
  },
  {
   "cell_type": "code",
   "execution_count": 21,
   "id": "c6261844",
   "metadata": {},
   "outputs": [
    {
     "data": {
      "text/html": [
       "<div>\n",
       "<style scoped>\n",
       "    .dataframe tbody tr th:only-of-type {\n",
       "        vertical-align: middle;\n",
       "    }\n",
       "\n",
       "    .dataframe tbody tr th {\n",
       "        vertical-align: top;\n",
       "    }\n",
       "\n",
       "    .dataframe thead th {\n",
       "        text-align: right;\n",
       "    }\n",
       "</style>\n",
       "<table border=\"1\" class=\"dataframe\">\n",
       "  <thead>\n",
       "    <tr style=\"text-align: right;\">\n",
       "      <th></th>\n",
       "      <th>index</th>\n",
       "      <th>Total Screen Time</th>\n",
       "      <th>Social Networking</th>\n",
       "      <th>Reading and Reference</th>\n",
       "      <th>Other</th>\n",
       "      <th>Productivity</th>\n",
       "      <th>Health and Fitness</th>\n",
       "      <th>Entertainment</th>\n",
       "      <th>Creativity</th>\n",
       "      <th>Yoga</th>\n",
       "    </tr>\n",
       "  </thead>\n",
       "  <tbody>\n",
       "    <tr>\n",
       "      <th>count</th>\n",
       "      <td>28.000000</td>\n",
       "      <td>28.000000</td>\n",
       "      <td>28.000000</td>\n",
       "      <td>28.000000</td>\n",
       "      <td>28.000000</td>\n",
       "      <td>28.000000</td>\n",
       "      <td>28.000000</td>\n",
       "      <td>28.000000</td>\n",
       "      <td>28.000000</td>\n",
       "      <td>28.000000</td>\n",
       "    </tr>\n",
       "    <tr>\n",
       "      <th>mean</th>\n",
       "      <td>13.500000</td>\n",
       "      <td>113.250000</td>\n",
       "      <td>60.714286</td>\n",
       "      <td>8.714286</td>\n",
       "      <td>14.821429</td>\n",
       "      <td>9.071429</td>\n",
       "      <td>1.285714</td>\n",
       "      <td>1.821429</td>\n",
       "      <td>0.214286</td>\n",
       "      <td>0.571429</td>\n",
       "    </tr>\n",
       "    <tr>\n",
       "      <th>std</th>\n",
       "      <td>8.225975</td>\n",
       "      <td>43.562322</td>\n",
       "      <td>22.853571</td>\n",
       "      <td>9.340700</td>\n",
       "      <td>13.754605</td>\n",
       "      <td>6.097532</td>\n",
       "      <td>3.952094</td>\n",
       "      <td>6.188721</td>\n",
       "      <td>0.568112</td>\n",
       "      <td>0.503953</td>\n",
       "    </tr>\n",
       "    <tr>\n",
       "      <th>min</th>\n",
       "      <td>0.000000</td>\n",
       "      <td>52.000000</td>\n",
       "      <td>25.000000</td>\n",
       "      <td>0.000000</td>\n",
       "      <td>0.000000</td>\n",
       "      <td>2.000000</td>\n",
       "      <td>0.000000</td>\n",
       "      <td>0.000000</td>\n",
       "      <td>0.000000</td>\n",
       "      <td>0.000000</td>\n",
       "    </tr>\n",
       "    <tr>\n",
       "      <th>25%</th>\n",
       "      <td>6.750000</td>\n",
       "      <td>83.500000</td>\n",
       "      <td>41.750000</td>\n",
       "      <td>2.000000</td>\n",
       "      <td>4.750000</td>\n",
       "      <td>3.000000</td>\n",
       "      <td>0.000000</td>\n",
       "      <td>0.000000</td>\n",
       "      <td>0.000000</td>\n",
       "      <td>0.000000</td>\n",
       "    </tr>\n",
       "    <tr>\n",
       "      <th>50%</th>\n",
       "      <td>13.500000</td>\n",
       "      <td>111.000000</td>\n",
       "      <td>58.000000</td>\n",
       "      <td>5.000000</td>\n",
       "      <td>9.000000</td>\n",
       "      <td>8.000000</td>\n",
       "      <td>0.000000</td>\n",
       "      <td>0.000000</td>\n",
       "      <td>0.000000</td>\n",
       "      <td>1.000000</td>\n",
       "    </tr>\n",
       "    <tr>\n",
       "      <th>75%</th>\n",
       "      <td>20.250000</td>\n",
       "      <td>137.250000</td>\n",
       "      <td>76.500000</td>\n",
       "      <td>13.500000</td>\n",
       "      <td>21.500000</td>\n",
       "      <td>15.000000</td>\n",
       "      <td>0.000000</td>\n",
       "      <td>1.000000</td>\n",
       "      <td>0.000000</td>\n",
       "      <td>1.000000</td>\n",
       "    </tr>\n",
       "    <tr>\n",
       "      <th>max</th>\n",
       "      <td>27.000000</td>\n",
       "      <td>198.000000</td>\n",
       "      <td>109.000000</td>\n",
       "      <td>40.000000</td>\n",
       "      <td>43.000000</td>\n",
       "      <td>22.000000</td>\n",
       "      <td>15.000000</td>\n",
       "      <td>32.000000</td>\n",
       "      <td>2.000000</td>\n",
       "      <td>1.000000</td>\n",
       "    </tr>\n",
       "  </tbody>\n",
       "</table>\n",
       "</div>"
      ],
      "text/plain": [
       "           index  Total Screen Time   Social Networking  \\\n",
       "count  28.000000           28.000000          28.000000   \n",
       "mean   13.500000          113.250000          60.714286   \n",
       "std     8.225975           43.562322          22.853571   \n",
       "min     0.000000           52.000000          25.000000   \n",
       "25%     6.750000           83.500000          41.750000   \n",
       "50%    13.500000          111.000000          58.000000   \n",
       "75%    20.250000          137.250000          76.500000   \n",
       "max    27.000000          198.000000         109.000000   \n",
       "\n",
       "       Reading and Reference      Other  Productivity  Health and Fitness  \\\n",
       "count              28.000000  28.000000     28.000000           28.000000   \n",
       "mean                8.714286  14.821429      9.071429            1.285714   \n",
       "std                 9.340700  13.754605      6.097532            3.952094   \n",
       "min                 0.000000   0.000000      2.000000            0.000000   \n",
       "25%                 2.000000   4.750000      3.000000            0.000000   \n",
       "50%                 5.000000   9.000000      8.000000            0.000000   \n",
       "75%                13.500000  21.500000     15.000000            0.000000   \n",
       "max                40.000000  43.000000     22.000000           15.000000   \n",
       "\n",
       "       Entertainment  Creativity       Yoga  \n",
       "count      28.000000   28.000000  28.000000  \n",
       "mean        1.821429    0.214286   0.571429  \n",
       "std         6.188721    0.568112   0.503953  \n",
       "min         0.000000    0.000000   0.000000  \n",
       "25%         0.000000    0.000000   0.000000  \n",
       "50%         0.000000    0.000000   1.000000  \n",
       "75%         1.000000    0.000000   1.000000  \n",
       "max        32.000000    2.000000   1.000000  "
      ]
     },
     "execution_count": 21,
     "metadata": {},
     "output_type": "execute_result"
    }
   ],
   "source": [
    "df.describe()"
   ]
  },
  {
   "cell_type": "markdown",
   "id": "dfa55d9f",
   "metadata": {},
   "source": [
    "#### ***Value Sorting***"
   ]
  },
  {
   "cell_type": "code",
   "execution_count": 24,
   "id": "069f719b",
   "metadata": {},
   "outputs": [
    {
     "data": {
      "text/plain": [
       "8      25\n",
       "25     28\n",
       "17     34\n",
       "4      35\n",
       "26     37\n",
       "13     40\n",
       "27     41\n",
       "11     42\n",
       "22     42\n",
       "12     46\n",
       "24     49\n",
       "2      52\n",
       "21     53\n",
       "6      56\n",
       "15     60\n",
       "16     64\n",
       "5      68\n",
       "3      69\n",
       "20     70\n",
       "10     75\n",
       "9      76\n",
       "1      78\n",
       "19     81\n",
       "0      89\n",
       "14     90\n",
       "23     93\n",
       "7      98\n",
       "18    109\n",
       "Name: Social Networking, dtype: int64"
      ]
     },
     "execution_count": 24,
     "metadata": {},
     "output_type": "execute_result"
    }
   ],
   "source": [
    "df['Social Networking'].sort_values()"
   ]
  },
  {
   "cell_type": "markdown",
   "id": "ef2b5085",
   "metadata": {},
   "source": [
    "***Values are sort in ascending order by default. \n",
    "If desecnding are required, set the ascending equal to false.***"
   ]
  },
  {
   "cell_type": "code",
   "execution_count": 25,
   "id": "209f4af7",
   "metadata": {},
   "outputs": [
    {
     "data": {
      "text/plain": [
       "18    109\n",
       "7      98\n",
       "23     93\n",
       "14     90\n",
       "0      89\n",
       "19     81\n",
       "1      78\n",
       "9      76\n",
       "10     75\n",
       "20     70\n",
       "3      69\n",
       "5      68\n",
       "16     64\n",
       "15     60\n",
       "6      56\n",
       "21     53\n",
       "2      52\n",
       "24     49\n",
       "12     46\n",
       "11     42\n",
       "22     42\n",
       "27     41\n",
       "13     40\n",
       "26     37\n",
       "4      35\n",
       "17     34\n",
       "25     28\n",
       "8      25\n",
       "Name: Social Networking, dtype: int64"
      ]
     },
     "execution_count": 25,
     "metadata": {},
     "output_type": "execute_result"
    }
   ],
   "source": [
    "df['Social Networking'].sort_values(ascending=False)"
   ]
  },
  {
   "cell_type": "markdown",
   "id": "165239b2",
   "metadata": {},
   "source": [
    "#### ***Showing first n-largest values***"
   ]
  },
  {
   "cell_type": "code",
   "execution_count": 26,
   "id": "24dd1522",
   "metadata": {},
   "outputs": [
    {
     "data": {
      "text/html": [
       "<div>\n",
       "<style scoped>\n",
       "    .dataframe tbody tr th:only-of-type {\n",
       "        vertical-align: middle;\n",
       "    }\n",
       "\n",
       "    .dataframe tbody tr th {\n",
       "        vertical-align: top;\n",
       "    }\n",
       "\n",
       "    .dataframe thead th {\n",
       "        text-align: right;\n",
       "    }\n",
       "</style>\n",
       "<table border=\"1\" class=\"dataframe\">\n",
       "  <thead>\n",
       "    <tr style=\"text-align: right;\">\n",
       "      <th></th>\n",
       "      <th>index</th>\n",
       "      <th>Date</th>\n",
       "      <th>Week Day</th>\n",
       "      <th>Total Screen Time</th>\n",
       "      <th>Social Networking</th>\n",
       "      <th>Reading and Reference</th>\n",
       "      <th>Other</th>\n",
       "      <th>Productivity</th>\n",
       "      <th>Health and Fitness</th>\n",
       "      <th>Entertainment</th>\n",
       "      <th>Creativity</th>\n",
       "      <th>Yoga</th>\n",
       "    </tr>\n",
       "  </thead>\n",
       "  <tbody>\n",
       "    <tr>\n",
       "      <th>18</th>\n",
       "      <td>18</td>\n",
       "      <td>05/05/19</td>\n",
       "      <td>Sunday</td>\n",
       "      <td>133</td>\n",
       "      <td>109</td>\n",
       "      <td>5</td>\n",
       "      <td>1</td>\n",
       "      <td>3</td>\n",
       "      <td>0</td>\n",
       "      <td>0</td>\n",
       "      <td>0</td>\n",
       "      <td>1</td>\n",
       "    </tr>\n",
       "    <tr>\n",
       "      <th>7</th>\n",
       "      <td>7</td>\n",
       "      <td>04/24/19</td>\n",
       "      <td>Wednesday</td>\n",
       "      <td>135</td>\n",
       "      <td>98</td>\n",
       "      <td>3</td>\n",
       "      <td>33</td>\n",
       "      <td>16</td>\n",
       "      <td>0</td>\n",
       "      <td>0</td>\n",
       "      <td>0</td>\n",
       "      <td>0</td>\n",
       "    </tr>\n",
       "    <tr>\n",
       "      <th>23</th>\n",
       "      <td>23</td>\n",
       "      <td>05/10/19</td>\n",
       "      <td>Friday</td>\n",
       "      <td>161</td>\n",
       "      <td>93</td>\n",
       "      <td>13</td>\n",
       "      <td>17</td>\n",
       "      <td>16</td>\n",
       "      <td>1</td>\n",
       "      <td>0</td>\n",
       "      <td>0</td>\n",
       "      <td>1</td>\n",
       "    </tr>\n",
       "    <tr>\n",
       "      <th>14</th>\n",
       "      <td>14</td>\n",
       "      <td>05/01/19</td>\n",
       "      <td>Wednesday</td>\n",
       "      <td>127</td>\n",
       "      <td>90</td>\n",
       "      <td>0</td>\n",
       "      <td>10</td>\n",
       "      <td>7</td>\n",
       "      <td>0</td>\n",
       "      <td>0</td>\n",
       "      <td>0</td>\n",
       "      <td>1</td>\n",
       "    </tr>\n",
       "    <tr>\n",
       "      <th>0</th>\n",
       "      <td>0</td>\n",
       "      <td>04/17/19</td>\n",
       "      <td>Wednesday</td>\n",
       "      <td>187</td>\n",
       "      <td>89</td>\n",
       "      <td>17</td>\n",
       "      <td>41</td>\n",
       "      <td>22</td>\n",
       "      <td>0</td>\n",
       "      <td>0</td>\n",
       "      <td>0</td>\n",
       "      <td>0</td>\n",
       "    </tr>\n",
       "    <tr>\n",
       "      <th>19</th>\n",
       "      <td>19</td>\n",
       "      <td>05/06/19</td>\n",
       "      <td>Monday</td>\n",
       "      <td>144</td>\n",
       "      <td>81</td>\n",
       "      <td>4</td>\n",
       "      <td>5</td>\n",
       "      <td>3</td>\n",
       "      <td>0</td>\n",
       "      <td>0</td>\n",
       "      <td>0</td>\n",
       "      <td>1</td>\n",
       "    </tr>\n",
       "    <tr>\n",
       "      <th>1</th>\n",
       "      <td>1</td>\n",
       "      <td>04/18/19</td>\n",
       "      <td>Thursday</td>\n",
       "      <td>123</td>\n",
       "      <td>78</td>\n",
       "      <td>17</td>\n",
       "      <td>8</td>\n",
       "      <td>9</td>\n",
       "      <td>0</td>\n",
       "      <td>0</td>\n",
       "      <td>0</td>\n",
       "      <td>0</td>\n",
       "    </tr>\n",
       "    <tr>\n",
       "      <th>9</th>\n",
       "      <td>9</td>\n",
       "      <td>04/26/19</td>\n",
       "      <td>Friday</td>\n",
       "      <td>198</td>\n",
       "      <td>76</td>\n",
       "      <td>8</td>\n",
       "      <td>29</td>\n",
       "      <td>15</td>\n",
       "      <td>0</td>\n",
       "      <td>32</td>\n",
       "      <td>0</td>\n",
       "      <td>0</td>\n",
       "    </tr>\n",
       "    <tr>\n",
       "      <th>10</th>\n",
       "      <td>10</td>\n",
       "      <td>04/27/19</td>\n",
       "      <td>Saturday</td>\n",
       "      <td>116</td>\n",
       "      <td>75</td>\n",
       "      <td>10</td>\n",
       "      <td>20</td>\n",
       "      <td>5</td>\n",
       "      <td>0</td>\n",
       "      <td>0</td>\n",
       "      <td>0</td>\n",
       "      <td>0</td>\n",
       "    </tr>\n",
       "    <tr>\n",
       "      <th>20</th>\n",
       "      <td>20</td>\n",
       "      <td>05/07/19</td>\n",
       "      <td>Tuesday</td>\n",
       "      <td>110</td>\n",
       "      <td>70</td>\n",
       "      <td>5</td>\n",
       "      <td>6</td>\n",
       "      <td>15</td>\n",
       "      <td>0</td>\n",
       "      <td>9</td>\n",
       "      <td>0</td>\n",
       "      <td>1</td>\n",
       "    </tr>\n",
       "  </tbody>\n",
       "</table>\n",
       "</div>"
      ],
      "text/plain": [
       "    index      Date   Week Day  Total Screen Time   Social Networking  \\\n",
       "18     18  05/05/19     Sunday                 133                109   \n",
       "7       7  04/24/19  Wednesday                 135                 98   \n",
       "23     23  05/10/19     Friday                 161                 93   \n",
       "14     14  05/01/19  Wednesday                 127                 90   \n",
       "0       0  04/17/19  Wednesday                 187                 89   \n",
       "19     19  05/06/19     Monday                 144                 81   \n",
       "1       1  04/18/19   Thursday                 123                 78   \n",
       "9       9  04/26/19     Friday                 198                 76   \n",
       "10     10  04/27/19   Saturday                 116                 75   \n",
       "20     20  05/07/19    Tuesday                 110                 70   \n",
       "\n",
       "    Reading and Reference  Other  Productivity  Health and Fitness  \\\n",
       "18                      5      1             3                   0   \n",
       "7                       3     33            16                   0   \n",
       "23                     13     17            16                   1   \n",
       "14                      0     10             7                   0   \n",
       "0                      17     41            22                   0   \n",
       "19                      4      5             3                   0   \n",
       "1                      17      8             9                   0   \n",
       "9                       8     29            15                   0   \n",
       "10                     10     20             5                   0   \n",
       "20                      5      6            15                   0   \n",
       "\n",
       "    Entertainment  Creativity  Yoga  \n",
       "18              0           0     1  \n",
       "7               0           0     0  \n",
       "23              0           0     1  \n",
       "14              0           0     1  \n",
       "0               0           0     0  \n",
       "19              0           0     1  \n",
       "1               0           0     0  \n",
       "9              32           0     0  \n",
       "10              0           0     0  \n",
       "20              9           0     1  "
      ]
     },
     "execution_count": 26,
     "metadata": {},
     "output_type": "execute_result"
    }
   ],
   "source": [
    "df.nlargest(10, 'Social Networking')"
   ]
  },
  {
   "cell_type": "markdown",
   "id": "d758cfaa",
   "metadata": {},
   "source": [
    "#### ***Showing first n-smallest values***"
   ]
  },
  {
   "cell_type": "code",
   "execution_count": 27,
   "id": "91fa2c89",
   "metadata": {},
   "outputs": [
    {
     "data": {
      "text/html": [
       "<div>\n",
       "<style scoped>\n",
       "    .dataframe tbody tr th:only-of-type {\n",
       "        vertical-align: middle;\n",
       "    }\n",
       "\n",
       "    .dataframe tbody tr th {\n",
       "        vertical-align: top;\n",
       "    }\n",
       "\n",
       "    .dataframe thead th {\n",
       "        text-align: right;\n",
       "    }\n",
       "</style>\n",
       "<table border=\"1\" class=\"dataframe\">\n",
       "  <thead>\n",
       "    <tr style=\"text-align: right;\">\n",
       "      <th></th>\n",
       "      <th>index</th>\n",
       "      <th>Date</th>\n",
       "      <th>Week Day</th>\n",
       "      <th>Total Screen Time</th>\n",
       "      <th>Social Networking</th>\n",
       "      <th>Reading and Reference</th>\n",
       "      <th>Other</th>\n",
       "      <th>Productivity</th>\n",
       "      <th>Health and Fitness</th>\n",
       "      <th>Entertainment</th>\n",
       "      <th>Creativity</th>\n",
       "      <th>Yoga</th>\n",
       "    </tr>\n",
       "  </thead>\n",
       "  <tbody>\n",
       "    <tr>\n",
       "      <th>8</th>\n",
       "      <td>8</td>\n",
       "      <td>04/25/19</td>\n",
       "      <td>Thursday</td>\n",
       "      <td>52</td>\n",
       "      <td>25</td>\n",
       "      <td>7</td>\n",
       "      <td>3</td>\n",
       "      <td>16</td>\n",
       "      <td>0</td>\n",
       "      <td>0</td>\n",
       "      <td>0</td>\n",
       "      <td>0</td>\n",
       "    </tr>\n",
       "    <tr>\n",
       "      <th>25</th>\n",
       "      <td>25</td>\n",
       "      <td>05/12/19</td>\n",
       "      <td>Sunday</td>\n",
       "      <td>52</td>\n",
       "      <td>28</td>\n",
       "      <td>1</td>\n",
       "      <td>1</td>\n",
       "      <td>6</td>\n",
       "      <td>0</td>\n",
       "      <td>0</td>\n",
       "      <td>1</td>\n",
       "      <td>1</td>\n",
       "    </tr>\n",
       "    <tr>\n",
       "      <th>17</th>\n",
       "      <td>17</td>\n",
       "      <td>05/04/19</td>\n",
       "      <td>Saturday</td>\n",
       "      <td>58</td>\n",
       "      <td>34</td>\n",
       "      <td>4</td>\n",
       "      <td>5</td>\n",
       "      <td>3</td>\n",
       "      <td>0</td>\n",
       "      <td>1</td>\n",
       "      <td>0</td>\n",
       "      <td>1</td>\n",
       "    </tr>\n",
       "    <tr>\n",
       "      <th>4</th>\n",
       "      <td>4</td>\n",
       "      <td>04/21/19</td>\n",
       "      <td>Sunday</td>\n",
       "      <td>56</td>\n",
       "      <td>35</td>\n",
       "      <td>2</td>\n",
       "      <td>43</td>\n",
       "      <td>3</td>\n",
       "      <td>0</td>\n",
       "      <td>1</td>\n",
       "      <td>1</td>\n",
       "      <td>0</td>\n",
       "    </tr>\n",
       "    <tr>\n",
       "      <th>26</th>\n",
       "      <td>26</td>\n",
       "      <td>05/13/19</td>\n",
       "      <td>Monday</td>\n",
       "      <td>61</td>\n",
       "      <td>37</td>\n",
       "      <td>1</td>\n",
       "      <td>0</td>\n",
       "      <td>4</td>\n",
       "      <td>0</td>\n",
       "      <td>0</td>\n",
       "      <td>0</td>\n",
       "      <td>1</td>\n",
       "    </tr>\n",
       "    <tr>\n",
       "      <th>13</th>\n",
       "      <td>13</td>\n",
       "      <td>04/30/19</td>\n",
       "      <td>Tuesday</td>\n",
       "      <td>79</td>\n",
       "      <td>40</td>\n",
       "      <td>2</td>\n",
       "      <td>9</td>\n",
       "      <td>12</td>\n",
       "      <td>0</td>\n",
       "      <td>0</td>\n",
       "      <td>0</td>\n",
       "      <td>1</td>\n",
       "    </tr>\n",
       "    <tr>\n",
       "      <th>27</th>\n",
       "      <td>27</td>\n",
       "      <td>05/14/19</td>\n",
       "      <td>Tuesday</td>\n",
       "      <td>88</td>\n",
       "      <td>41</td>\n",
       "      <td>2</td>\n",
       "      <td>7</td>\n",
       "      <td>15</td>\n",
       "      <td>0</td>\n",
       "      <td>0</td>\n",
       "      <td>0</td>\n",
       "      <td>1</td>\n",
       "    </tr>\n",
       "    <tr>\n",
       "      <th>11</th>\n",
       "      <td>11</td>\n",
       "      <td>04/28/19</td>\n",
       "      <td>Sunday</td>\n",
       "      <td>85</td>\n",
       "      <td>42</td>\n",
       "      <td>22</td>\n",
       "      <td>4</td>\n",
       "      <td>2</td>\n",
       "      <td>0</td>\n",
       "      <td>0</td>\n",
       "      <td>0</td>\n",
       "      <td>0</td>\n",
       "    </tr>\n",
       "    <tr>\n",
       "      <th>22</th>\n",
       "      <td>22</td>\n",
       "      <td>05/09/19</td>\n",
       "      <td>Thursday</td>\n",
       "      <td>96</td>\n",
       "      <td>42</td>\n",
       "      <td>15</td>\n",
       "      <td>16</td>\n",
       "      <td>19</td>\n",
       "      <td>0</td>\n",
       "      <td>0</td>\n",
       "      <td>0</td>\n",
       "      <td>1</td>\n",
       "    </tr>\n",
       "    <tr>\n",
       "      <th>12</th>\n",
       "      <td>12</td>\n",
       "      <td>04/29/19</td>\n",
       "      <td>Monday</td>\n",
       "      <td>109</td>\n",
       "      <td>46</td>\n",
       "      <td>8</td>\n",
       "      <td>13</td>\n",
       "      <td>9</td>\n",
       "      <td>15</td>\n",
       "      <td>1</td>\n",
       "      <td>0</td>\n",
       "      <td>1</td>\n",
       "    </tr>\n",
       "  </tbody>\n",
       "</table>\n",
       "</div>"
      ],
      "text/plain": [
       "    index      Date  Week Day  Total Screen Time   Social Networking  \\\n",
       "8       8  04/25/19  Thursday                  52                 25   \n",
       "25     25  05/12/19    Sunday                  52                 28   \n",
       "17     17  05/04/19  Saturday                  58                 34   \n",
       "4       4  04/21/19    Sunday                  56                 35   \n",
       "26     26  05/13/19    Monday                  61                 37   \n",
       "13     13  04/30/19   Tuesday                  79                 40   \n",
       "27     27  05/14/19   Tuesday                  88                 41   \n",
       "11     11  04/28/19    Sunday                  85                 42   \n",
       "22     22  05/09/19  Thursday                  96                 42   \n",
       "12     12  04/29/19    Monday                 109                 46   \n",
       "\n",
       "    Reading and Reference  Other  Productivity  Health and Fitness  \\\n",
       "8                       7      3            16                   0   \n",
       "25                      1      1             6                   0   \n",
       "17                      4      5             3                   0   \n",
       "4                       2     43             3                   0   \n",
       "26                      1      0             4                   0   \n",
       "13                      2      9            12                   0   \n",
       "27                      2      7            15                   0   \n",
       "11                     22      4             2                   0   \n",
       "22                     15     16            19                   0   \n",
       "12                      8     13             9                  15   \n",
       "\n",
       "    Entertainment  Creativity  Yoga  \n",
       "8               0           0     0  \n",
       "25              0           1     1  \n",
       "17              1           0     1  \n",
       "4               1           1     0  \n",
       "26              0           0     1  \n",
       "13              0           0     1  \n",
       "27              0           0     1  \n",
       "11              0           0     0  \n",
       "22              0           0     1  \n",
       "12              1           0     1  "
      ]
     },
     "execution_count": 27,
     "metadata": {},
     "output_type": "execute_result"
    }
   ],
   "source": [
    "df.nsmallest(10, 'Social Networking')"
   ]
  }
 ],
 "metadata": {
  "kernelspec": {
   "display_name": "Python 3",
   "language": "python",
   "name": "python3"
  },
  "language_info": {
   "codemirror_mode": {
    "name": "ipython",
    "version": 3
   },
   "file_extension": ".py",
   "mimetype": "text/x-python",
   "name": "python",
   "nbconvert_exporter": "python",
   "pygments_lexer": "ipython3",
   "version": "3.13.1"
  }
 },
 "nbformat": 4,
 "nbformat_minor": 5
}
