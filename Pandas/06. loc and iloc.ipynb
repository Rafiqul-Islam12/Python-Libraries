{
 "cells": [
  {
   "cell_type": "code",
   "execution_count": 4,
   "id": "7a72e3d3",
   "metadata": {},
   "outputs": [],
   "source": [
    "import pandas as pd"
   ]
  },
  {
   "cell_type": "markdown",
   "id": "98904e67",
   "metadata": {},
   "source": [
    "#### ***loc -> working with 'index value'. it also can be string.***"
   ]
  },
  {
   "cell_type": "markdown",
   "id": "2c0ac5ff",
   "metadata": {},
   "source": [
    "#### ***iloc -> working with 'index position'***"
   ]
  },
  {
   "cell_type": "code",
   "execution_count": 5,
   "id": "0550b991",
   "metadata": {},
   "outputs": [
    {
     "data": {
      "text/html": [
       "<div>\n",
       "<style scoped>\n",
       "    .dataframe tbody tr th:only-of-type {\n",
       "        vertical-align: middle;\n",
       "    }\n",
       "\n",
       "    .dataframe tbody tr th {\n",
       "        vertical-align: top;\n",
       "    }\n",
       "\n",
       "    .dataframe thead th {\n",
       "        text-align: right;\n",
       "    }\n",
       "</style>\n",
       "<table border=\"1\" class=\"dataframe\">\n",
       "  <thead>\n",
       "    <tr style=\"text-align: right;\">\n",
       "      <th></th>\n",
       "      <th>Name</th>\n",
       "      <th>Age</th>\n",
       "      <th>Occupation</th>\n",
       "      <th>Salary</th>\n",
       "    </tr>\n",
       "  </thead>\n",
       "  <tbody>\n",
       "    <tr>\n",
       "      <th>0</th>\n",
       "      <td>Rashedul</td>\n",
       "      <td>27</td>\n",
       "      <td>Data Scientist</td>\n",
       "      <td>80000</td>\n",
       "    </tr>\n",
       "    <tr>\n",
       "      <th>1</th>\n",
       "      <td>Zannat</td>\n",
       "      <td>24</td>\n",
       "      <td>Software Engineer</td>\n",
       "      <td>55000</td>\n",
       "    </tr>\n",
       "    <tr>\n",
       "      <th>2</th>\n",
       "      <td>Rishan</td>\n",
       "      <td>22</td>\n",
       "      <td>Teacher</td>\n",
       "      <td>70000</td>\n",
       "    </tr>\n",
       "  </tbody>\n",
       "</table>\n",
       "</div>"
      ],
      "text/plain": [
       "       Name  Age         Occupation  Salary\n",
       "0  Rashedul   27     Data Scientist   80000\n",
       "1    Zannat   24  Software Engineer   55000\n",
       "2    Rishan   22            Teacher   70000"
      ]
     },
     "execution_count": 5,
     "metadata": {},
     "output_type": "execute_result"
    }
   ],
   "source": [
    "data = {'Name': ['Rashedul', 'Zannat', 'Rishan'],\n",
    "        'Age': [27, 24, 22],\n",
    "        'Occupation': ['Data Scientist', 'Software Engineer', 'Teacher'],\n",
    "        'Salary': [80000, 55000, 70000]\n",
    "       }\n",
    "\n",
    "df = pd.DataFrame(data)\n",
    "df.head()"
   ]
  },
  {
   "cell_type": "markdown",
   "id": "2fcad7b1",
   "metadata": {},
   "source": [
    "***Set Index***"
   ]
  },
  {
   "cell_type": "code",
   "execution_count": 6,
   "id": "d1f126ed",
   "metadata": {},
   "outputs": [],
   "source": [
    "df = df.set_index('Occupation')\n",
    "#df.set_index('Occupation', inplace=True)"
   ]
  },
  {
   "cell_type": "code",
   "execution_count": 7,
   "id": "af301e39",
   "metadata": {},
   "outputs": [
    {
     "data": {
      "text/html": [
       "<div>\n",
       "<style scoped>\n",
       "    .dataframe tbody tr th:only-of-type {\n",
       "        vertical-align: middle;\n",
       "    }\n",
       "\n",
       "    .dataframe tbody tr th {\n",
       "        vertical-align: top;\n",
       "    }\n",
       "\n",
       "    .dataframe thead th {\n",
       "        text-align: right;\n",
       "    }\n",
       "</style>\n",
       "<table border=\"1\" class=\"dataframe\">\n",
       "  <thead>\n",
       "    <tr style=\"text-align: right;\">\n",
       "      <th></th>\n",
       "      <th>Name</th>\n",
       "      <th>Age</th>\n",
       "      <th>Salary</th>\n",
       "    </tr>\n",
       "    <tr>\n",
       "      <th>Occupation</th>\n",
       "      <th></th>\n",
       "      <th></th>\n",
       "      <th></th>\n",
       "    </tr>\n",
       "  </thead>\n",
       "  <tbody>\n",
       "    <tr>\n",
       "      <th>Data Scientist</th>\n",
       "      <td>Rashedul</td>\n",
       "      <td>27</td>\n",
       "      <td>80000</td>\n",
       "    </tr>\n",
       "    <tr>\n",
       "      <th>Software Engineer</th>\n",
       "      <td>Zannat</td>\n",
       "      <td>24</td>\n",
       "      <td>55000</td>\n",
       "    </tr>\n",
       "    <tr>\n",
       "      <th>Teacher</th>\n",
       "      <td>Rishan</td>\n",
       "      <td>22</td>\n",
       "      <td>70000</td>\n",
       "    </tr>\n",
       "  </tbody>\n",
       "</table>\n",
       "</div>"
      ],
      "text/plain": [
       "                       Name  Age  Salary\n",
       "Occupation                              \n",
       "Data Scientist     Rashedul   27   80000\n",
       "Software Engineer    Zannat   24   55000\n",
       "Teacher              Rishan   22   70000"
      ]
     },
     "execution_count": 7,
     "metadata": {},
     "output_type": "execute_result"
    }
   ],
   "source": [
    "df"
   ]
  },
  {
   "cell_type": "code",
   "execution_count": 8,
   "id": "2bd0460a",
   "metadata": {},
   "outputs": [
    {
     "data": {
      "text/plain": [
       "Name      Rashedul\n",
       "Age             27\n",
       "Salary       80000\n",
       "Name: Data Scientist, dtype: object"
      ]
     },
     "execution_count": 8,
     "metadata": {},
     "output_type": "execute_result"
    }
   ],
   "source": [
    "df.loc['Data Scientist']"
   ]
  },
  {
   "cell_type": "code",
   "execution_count": 9,
   "id": "d4f27082",
   "metadata": {},
   "outputs": [
    {
     "data": {
      "text/plain": [
       "Name      Rashedul\n",
       "Age             27\n",
       "Salary       80000\n",
       "Name: Data Scientist, dtype: object"
      ]
     },
     "execution_count": 9,
     "metadata": {},
     "output_type": "execute_result"
    }
   ],
   "source": [
    "df.iloc[0]"
   ]
  }
 ],
 "metadata": {
  "kernelspec": {
   "display_name": "Python 3",
   "language": "python",
   "name": "python3"
  },
  "language_info": {
   "codemirror_mode": {
    "name": "ipython",
    "version": 3
   },
   "file_extension": ".py",
   "mimetype": "text/x-python",
   "name": "python",
   "nbconvert_exporter": "python",
   "pygments_lexer": "ipython3",
   "version": "3.13.1"
  }
 },
 "nbformat": 4,
 "nbformat_minor": 5
}
