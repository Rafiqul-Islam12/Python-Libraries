{
 "cells": [
  {
   "cell_type": "markdown",
   "id": "140c0132",
   "metadata": {},
   "source": [
    "#### ***Memory efficiency (Total bytes used for data)***"
   ]
  },
  {
   "cell_type": "code",
   "execution_count": 1,
   "id": "a7f65e37",
   "metadata": {},
   "outputs": [
    {
     "name": "stdout",
     "output_type": "stream",
     "text": [
      "List:  88\n",
      "Std array:  92\n",
      "numpy:  24\n"
     ]
    }
   ],
   "source": [
    "import sys\n",
    "list = [1, 2, 3]\n",
    "print(\"List: \",sys.getsizeof(list))  \n",
    "\n",
    "import array\n",
    "arr = array.array('i', [1, 2, 3])\n",
    "print(\"Std array: \",sys.getsizeof(arr))  \n",
    "\n",
    "import numpy as np\n",
    "narr = np.array([1, 2, 3])\n",
    "print(\"numpy: \",narr.nbytes)  "
   ]
  },
  {
   "cell_type": "markdown",
   "id": "91416985",
   "metadata": {},
   "source": [
    "#### ***Performance***"
   ]
  },
  {
   "cell_type": "code",
   "execution_count": null,
   "id": "234ce295",
   "metadata": {},
   "outputs": [],
   "source": [
    "import time\n",
    "import numpy as np\n",
    "\n",
    "# List approach\n",
    "lst1 = list(range(1000000))\n",
    "lst2 = list(range(1000000))\n",
    "start = time.time()\n",
    "result = [x + y for x, y in zip(lst1, lst2)]\n",
    "print(\"List time:\", time.time() - start)\n",
    "\n",
    "# NumPy approach\n",
    "arr1 = np.array(lst1)\n",
    "arr2 = np.array(lst2)\n",
    "start = time.time()\n",
    "result = arr1 + arr2\n",
    "print(\"NumPy time:\", time.time() - start)"
   ]
  },
  {
   "cell_type": "markdown",
   "id": "0cc0c942",
   "metadata": {},
   "source": [
    "#### ***Mathematical operations***"
   ]
  },
  {
   "cell_type": "code",
   "execution_count": 6,
   "id": "2c301c76",
   "metadata": {},
   "outputs": [
    {
     "name": "stdout",
     "output_type": "stream",
     "text": [
      "[1, 2, 3, 4, 5, 6]\n",
      "array('i', [1, 2, 3, 4, 5, 6])\n",
      "[5 7 9]\n"
     ]
    }
   ],
   "source": [
    "#List\n",
    "a = [1, 2, 3]\n",
    "b = [4, 5, 6]\n",
    "print(a + b)\n",
    "\n",
    "#array:\n",
    "import array\n",
    "a = array.array('i', [1, 2, 3])\n",
    "b = array.array('i', [4, 5, 6])\n",
    "print(a + b)\n",
    "\n",
    "\n",
    "#NumPy\n",
    "import numpy as np\n",
    "a = np.array([1, 2, 3])\n",
    "b = np.array([4, 5, 6])\n",
    "print(a+b)"
   ]
  }
 ],
 "metadata": {
  "kernelspec": {
   "display_name": "Python 3",
   "language": "python",
   "name": "python3"
  },
  "language_info": {
   "codemirror_mode": {
    "name": "ipython",
    "version": 3
   },
   "file_extension": ".py",
   "mimetype": "text/x-python",
   "name": "python",
   "nbconvert_exporter": "python",
   "pygments_lexer": "ipython3",
   "version": "3.13.1"
  }
 },
 "nbformat": 4,
 "nbformat_minor": 5
}
