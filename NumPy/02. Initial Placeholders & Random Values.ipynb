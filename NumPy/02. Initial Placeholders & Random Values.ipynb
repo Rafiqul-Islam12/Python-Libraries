{
 "cells": [
  {
   "cell_type": "code",
   "execution_count": 12,
   "id": "e79a82fa",
   "metadata": {},
   "outputs": [],
   "source": [
    "import numpy as np"
   ]
  },
  {
   "cell_type": "markdown",
   "id": "80528479",
   "metadata": {},
   "source": [
    "#### ***arange()***\n",
    "**Return evenly spaced values within a given interval.**        \n",
    "**Syntax: arange([start,] stop[, step,], dtype=None)**"
   ]
  },
  {
   "cell_type": "code",
   "execution_count": 13,
   "id": "addb0467",
   "metadata": {},
   "outputs": [
    {
     "data": {
      "text/plain": [
       "array([0, 1, 2, 3, 4, 5, 6, 7, 8, 9])"
      ]
     },
     "execution_count": 13,
     "metadata": {},
     "output_type": "execute_result"
    }
   ],
   "source": [
    "num = np.arange(10)\n",
    "num"
   ]
  },
  {
   "cell_type": "code",
   "execution_count": 14,
   "id": "fd44864a",
   "metadata": {},
   "outputs": [
    {
     "data": {
      "text/plain": [
       "array([1, 3, 5, 7, 9])"
      ]
     },
     "execution_count": 14,
     "metadata": {},
     "output_type": "execute_result"
    }
   ],
   "source": [
    "np.arange(1,10,2)"
   ]
  },
  {
   "cell_type": "code",
   "execution_count": 15,
   "id": "ce65f8c6",
   "metadata": {},
   "outputs": [
    {
     "data": {
      "text/plain": [
       "array([0., 2., 4., 6., 8.])"
      ]
     },
     "execution_count": 15,
     "metadata": {},
     "output_type": "execute_result"
    }
   ],
   "source": [
    "np.arange(0,10,2, dtype=float)"
   ]
  },
  {
   "cell_type": "markdown",
   "id": "7fd55570",
   "metadata": {},
   "source": [
    "#### ***linspace()***\n",
    "**Return evenly spaced numbers over a specified interval.**"
   ]
  },
  {
   "cell_type": "code",
   "execution_count": 16,
   "id": "9c299eb0",
   "metadata": {},
   "outputs": [
    {
     "data": {
      "text/plain": [
       "(array([ 1.,  2.,  3.,  4.,  5.,  6.,  7.,  8.,  9., 10., 11., 12., 13.,\n",
       "        14., 15., 16., 17., 18., 19., 20.]),\n",
       " np.float64(1.0))"
      ]
     },
     "execution_count": 16,
     "metadata": {},
     "output_type": "execute_result"
    }
   ],
   "source": [
    "np.linspace(1, 20, 20, retstep=True)"
   ]
  },
  {
   "cell_type": "code",
   "execution_count": 17,
   "id": "f17667ea",
   "metadata": {},
   "outputs": [
    {
     "data": {
      "text/plain": [
       "(array([ 1.        ,  1.48717949,  1.97435897,  2.46153846,  2.94871795,\n",
       "         3.43589744,  3.92307692,  4.41025641,  4.8974359 ,  5.38461538,\n",
       "         5.87179487,  6.35897436,  6.84615385,  7.33333333,  7.82051282,\n",
       "         8.30769231,  8.79487179,  9.28205128,  9.76923077, 10.25641026,\n",
       "        10.74358974, 11.23076923, 11.71794872, 12.20512821, 12.69230769,\n",
       "        13.17948718, 13.66666667, 14.15384615, 14.64102564, 15.12820513,\n",
       "        15.61538462, 16.1025641 , 16.58974359, 17.07692308, 17.56410256,\n",
       "        18.05128205, 18.53846154, 19.02564103, 19.51282051, 20.        ]),\n",
       " np.float64(0.48717948717948717))"
      ]
     },
     "execution_count": 17,
     "metadata": {},
     "output_type": "execute_result"
    }
   ],
   "source": [
    "np.linspace(1, 20, 40, retstep=True)"
   ]
  },
  {
   "cell_type": "markdown",
   "id": "25860531",
   "metadata": {},
   "source": [
    "#### ***zeros***"
   ]
  },
  {
   "cell_type": "code",
   "execution_count": null,
   "id": "31d36369",
   "metadata": {},
   "outputs": [
    {
     "data": {
      "text/plain": [
       "array([0., 0., 0., 0., 0.])"
      ]
     },
     "execution_count": 18,
     "metadata": {},
     "output_type": "execute_result"
    }
   ],
   "source": [
    "np.zeros(5) "
   ]
  },
  {
   "cell_type": "markdown",
   "id": "a9e4752c",
   "metadata": {},
   "source": [
    "#### ***Ones***"
   ]
  },
  {
   "cell_type": "code",
   "execution_count": null,
   "id": "7e33d8f8",
   "metadata": {},
   "outputs": [
    {
     "data": {
      "text/plain": [
       "array([1., 1., 1., 1., 1.])"
      ]
     },
     "execution_count": 19,
     "metadata": {},
     "output_type": "execute_result"
    }
   ],
   "source": [
    "np.ones(5)"
   ]
  },
  {
   "cell_type": "markdown",
   "id": "20aa864f",
   "metadata": {},
   "source": [
    "#### ***full***"
   ]
  },
  {
   "cell_type": "code",
   "execution_count": 20,
   "id": "60f70d20",
   "metadata": {},
   "outputs": [
    {
     "data": {
      "text/plain": [
       "array([67, 67, 67, 67, 67])"
      ]
     },
     "execution_count": 20,
     "metadata": {},
     "output_type": "execute_result"
    }
   ],
   "source": [
    "np.full(5, 67, dtype = int)"
   ]
  },
  {
   "cell_type": "code",
   "execution_count": 21,
   "id": "bb645019",
   "metadata": {},
   "outputs": [
    {
     "data": {
      "text/plain": [
       "array([[65, 65],\n",
       "       [65, 65]])"
      ]
     },
     "execution_count": 21,
     "metadata": {},
     "output_type": "execute_result"
    }
   ],
   "source": [
    "np.full([2, 2], 65, dtype = int)"
   ]
  },
  {
   "cell_type": "markdown",
   "id": "2d4c569e",
   "metadata": {},
   "source": [
    "#### ***empty***"
   ]
  },
  {
   "cell_type": "code",
   "execution_count": 40,
   "id": "db3dc623",
   "metadata": {},
   "outputs": [
    {
     "data": {
      "text/plain": [
       "array([25895968444448860, 23925768161198147, 32370111954616435,\n",
       "       19703527547994204, 35466212143071305,                49])"
      ]
     },
     "execution_count": 40,
     "metadata": {},
     "output_type": "execute_result"
    }
   ],
   "source": [
    "np.empty(6, dtype=int) #Random garbage value"
   ]
  },
  {
   "cell_type": "code",
   "execution_count": 48,
   "id": "cfce5a21",
   "metadata": {},
   "outputs": [
    {
     "data": {
      "text/plain": [
       "array([[0, 0, 0],\n",
       "       [0, 0, 0],\n",
       "       [0, 0, 0],\n",
       "       [0, 0, 0]])"
      ]
     },
     "execution_count": 48,
     "metadata": {},
     "output_type": "execute_result"
    }
   ],
   "source": [
    "np.empty([4, 3], dtype=int) #Random garbage value"
   ]
  },
  {
   "cell_type": "markdown",
   "id": "63e7c514",
   "metadata": {},
   "source": [
    "#### ***eye***\n",
    "**Create a identity matrix**"
   ]
  },
  {
   "cell_type": "code",
   "execution_count": 49,
   "id": "bb76cd13",
   "metadata": {},
   "outputs": [
    {
     "data": {
      "text/plain": [
       "array([[1., 0., 0., 0.],\n",
       "       [0., 1., 0., 0.],\n",
       "       [0., 0., 1., 0.],\n",
       "       [0., 0., 0., 1.]])"
      ]
     },
     "execution_count": 49,
     "metadata": {},
     "output_type": "execute_result"
    }
   ],
   "source": [
    "np.eye(4)"
   ]
  },
  {
   "cell_type": "markdown",
   "id": "9eca3c23",
   "metadata": {},
   "source": [
    "#### ***Random***\n",
    "**rand()**  \n",
    "**Create an array of the given shape and populate it with random samples from a uniform distribution over [0, 1)**"
   ]
  },
  {
   "cell_type": "code",
   "execution_count": 50,
   "id": "afa7fef1",
   "metadata": {},
   "outputs": [
    {
     "data": {
      "text/plain": [
       "array([0.11550916, 0.85907468, 0.71266651, 0.63768841])"
      ]
     },
     "execution_count": 50,
     "metadata": {},
     "output_type": "execute_result"
    }
   ],
   "source": [
    "np.random.rand(4)"
   ]
  },
  {
   "cell_type": "code",
   "execution_count": 51,
   "id": "480e8a6e",
   "metadata": {},
   "outputs": [
    {
     "data": {
      "text/plain": [
       "array([[0.89382088, 0.33878493, 0.20113893, 0.0411058 ],\n",
       "       [0.71637849, 0.35963644, 0.28281594, 0.79167202],\n",
       "       [0.06983985, 0.69261379, 0.92126618, 0.20290933],\n",
       "       [0.76185166, 0.335339  , 0.41321744, 0.26504883],\n",
       "       [0.27896932, 0.37812239, 0.84381805, 0.37875047],\n",
       "       [0.63504156, 0.78181345, 0.43847993, 0.26950738]])"
      ]
     },
     "execution_count": 51,
     "metadata": {},
     "output_type": "execute_result"
    }
   ],
   "source": [
    "np.random.rand(6,4)"
   ]
  },
  {
   "cell_type": "markdown",
   "id": "c84a394d",
   "metadata": {},
   "source": [
    "#### ***randn()***\n",
    "\n",
    "***Return a sample (or samples) from the \"standard normal\" or a \"Gaussian\" distribution. Unlike rand which is uniform. [-3, 3]***"
   ]
  },
  {
   "cell_type": "code",
   "execution_count": 53,
   "id": "fb021b18",
   "metadata": {},
   "outputs": [
    {
     "data": {
      "text/plain": [
       "array([[ 0.7493873 ,  1.20287219,  0.48405626, -0.03347025, -1.20439016],\n",
       "       [-0.13512969,  0.15281547,  1.47596222,  0.28915031,  0.2277166 ],\n",
       "       [-1.30090512,  0.35514585,  1.21138416,  0.33650414, -1.7543581 ],\n",
       "       [ 0.60501559,  2.15604931, -0.60584454, -0.37919631, -1.14994978],\n",
       "       [ 1.21813048,  0.10709386,  0.10202016,  0.53387846, -0.18304021],\n",
       "       [ 1.26062833, -0.53397686,  0.65775809, -0.22882929,  0.78976681],\n",
       "       [-0.00556721, -0.72297968,  0.08045052,  0.97329255, -0.26644216],\n",
       "       [-0.23431236, -0.02376836, -0.44440463, -0.68402602, -0.85856691],\n",
       "       [-0.31365234,  0.15477636, -1.45800332, -0.46394056, -2.50256044],\n",
       "       [ 0.46314099, -0.87237352, -0.17634472, -0.57341253,  1.56300492]])"
      ]
     },
     "execution_count": 53,
     "metadata": {},
     "output_type": "execute_result"
    }
   ],
   "source": [
    "np.random.randn(10, 5)"
   ]
  },
  {
   "cell_type": "markdown",
   "id": "d67a9973",
   "metadata": {},
   "source": [
    "#### ***randint()***\n",
    "\n",
    "**Return random integers from low (inclusive) to high (exclusive).**"
   ]
  },
  {
   "cell_type": "code",
   "execution_count": 54,
   "id": "304b2974",
   "metadata": {},
   "outputs": [
    {
     "data": {
      "text/plain": [
       "array([14, 23, 93, 71, 97,  3, 74, 56, 48, 91], dtype=int32)"
      ]
     },
     "execution_count": 54,
     "metadata": {},
     "output_type": "execute_result"
    }
   ],
   "source": [
    "np.random.randint(1, 100, 10)"
   ]
  },
  {
   "cell_type": "code",
   "execution_count": 55,
   "id": "45fe7085",
   "metadata": {},
   "outputs": [
    {
     "data": {
      "text/plain": [
       "array([[155, 122, 194, 192, 193],\n",
       "       [151, 144, 172, 169, 134],\n",
       "       [103, 104, 157, 110, 105],\n",
       "       [107, 121, 140, 179, 175]], dtype=int32)"
      ]
     },
     "execution_count": 55,
     "metadata": {},
     "output_type": "execute_result"
    }
   ],
   "source": [
    "np.random.randint(100,200,20).reshape(4,5)"
   ]
  },
  {
   "cell_type": "code",
   "execution_count": 56,
   "id": "8cd0a3f0",
   "metadata": {},
   "outputs": [
    {
     "data": {
      "text/plain": [
       "array([[1065, 1789, 1052, 1622, 1542, 1823, 1580, 1854],\n",
       "       [1490, 1175, 1960, 1900, 1817, 1796, 1362, 1350],\n",
       "       [1969, 1520, 1421, 1179, 1581, 1545, 1784, 1013],\n",
       "       [1930, 1733, 1814, 1547, 1832, 1311, 1139, 1511],\n",
       "       [1039, 1548, 1953, 1809, 1554, 1583, 1360, 1534]], dtype=int32)"
      ]
     },
     "execution_count": 56,
     "metadata": {},
     "output_type": "execute_result"
    }
   ],
   "source": [
    "np.random.randint(low=1000, high=2000, size=[5,8])"
   ]
  },
  {
   "cell_type": "markdown",
   "id": "cb626b70",
   "metadata": {},
   "source": [
    "***max() & min()***"
   ]
  },
  {
   "cell_type": "code",
   "execution_count": 57,
   "id": "110b72a1",
   "metadata": {},
   "outputs": [
    {
     "data": {
      "text/plain": [
       "array([42, 28, 65, 61,  1, 84, 53, 84, 89, 28], dtype=int32)"
      ]
     },
     "execution_count": 57,
     "metadata": {},
     "output_type": "execute_result"
    }
   ],
   "source": [
    "arr = np.random.randint(0,100,10)\n",
    "arr"
   ]
  },
  {
   "cell_type": "code",
   "execution_count": 58,
   "id": "04e14c0b",
   "metadata": {},
   "outputs": [
    {
     "data": {
      "text/plain": [
       "np.int32(89)"
      ]
     },
     "execution_count": 58,
     "metadata": {},
     "output_type": "execute_result"
    }
   ],
   "source": [
    "arr.max()"
   ]
  },
  {
   "cell_type": "code",
   "execution_count": 59,
   "id": "285e2ef4",
   "metadata": {},
   "outputs": [
    {
     "data": {
      "text/plain": [
       "np.int32(1)"
      ]
     },
     "execution_count": 59,
     "metadata": {},
     "output_type": "execute_result"
    }
   ],
   "source": [
    "arr.min()"
   ]
  },
  {
   "cell_type": "markdown",
   "id": "f828f2aa",
   "metadata": {},
   "source": [
    "#### ***argmax() & argmin()***\n",
    "***To find the index locations of max and min values in array***"
   ]
  },
  {
   "cell_type": "code",
   "execution_count": 60,
   "id": "7b376987",
   "metadata": {},
   "outputs": [
    {
     "data": {
      "text/plain": [
       "np.int64(8)"
      ]
     },
     "execution_count": 60,
     "metadata": {},
     "output_type": "execute_result"
    }
   ],
   "source": [
    "arr.argmax()"
   ]
  },
  {
   "cell_type": "code",
   "execution_count": 61,
   "id": "82be2b4a",
   "metadata": {},
   "outputs": [
    {
     "data": {
      "text/plain": [
       "np.int64(4)"
      ]
     },
     "execution_count": 61,
     "metadata": {},
     "output_type": "execute_result"
    }
   ],
   "source": [
    "arr.argmin()"
   ]
  },
  {
   "cell_type": "markdown",
   "id": "71e0a017",
   "metadata": {},
   "source": [
    "#### ***Inspecting Properties (Attributes)***"
   ]
  },
  {
   "cell_type": "code",
   "execution_count": 62,
   "id": "c8edc220",
   "metadata": {},
   "outputs": [
    {
     "name": "stdout",
     "output_type": "stream",
     "text": [
      "Dimensions: 2\n",
      "Shape: (2, 3)\n",
      "Size: 6\n",
      "Data type: int64\n",
      "Item size (bytes): 8\n",
      "Total bytes: 48\n",
      "Transpose:\n",
      " [[1 4]\n",
      " [2 5]\n",
      " [3 6]]\n"
     ]
    }
   ],
   "source": [
    "arr = np.array([[1, 2, 3], [4, 5, 6]])\n",
    "\n",
    "print(\"Dimensions:\", arr.ndim)\n",
    "print(\"Shape:\", arr.shape)\n",
    "print(\"Size:\", arr.size)\n",
    "print(\"Data type:\", arr.dtype)\n",
    "print(\"Item size (bytes):\", arr.itemsize)\n",
    "print(\"Total bytes:\", arr.nbytes)\n",
    "print(\"Transpose:\\n\", arr.T)"
   ]
  },
  {
   "cell_type": "markdown",
   "id": "cd70ae1e",
   "metadata": {},
   "source": [
    "#### ***Sorting Array***"
   ]
  },
  {
   "cell_type": "code",
   "execution_count": 64,
   "id": "46b72bff",
   "metadata": {},
   "outputs": [
    {
     "data": {
      "text/plain": [
       "array([ 1, 10, 12, 15])"
      ]
     },
     "execution_count": 64,
     "metadata": {},
     "output_type": "execute_result"
    }
   ],
   "source": [
    "a = np.array([12, 15, 10, 1])\n",
    "a.sort()\n",
    "a"
   ]
  },
  {
   "cell_type": "code",
   "execution_count": 65,
   "id": "8ed9efe1",
   "metadata": {},
   "outputs": [
    {
     "data": {
      "text/plain": [
       "array([[12, 17, 15],\n",
       "       [10,  1,  9]])"
      ]
     },
     "execution_count": 65,
     "metadata": {},
     "output_type": "execute_result"
    }
   ],
   "source": [
    "a = np.array([[12, 17, 15], [10, 1, 9]])\n",
    "a"
   ]
  },
  {
   "cell_type": "code",
   "execution_count": null,
   "id": "89293be0",
   "metadata": {},
   "outputs": [
    {
     "data": {
      "text/plain": [
       "array([[10,  1,  9],\n",
       "       [12, 17, 15]])"
      ]
     },
     "execution_count": 66,
     "metadata": {},
     "output_type": "execute_result"
    }
   ],
   "source": [
    "np.sort(a, axis = 0)    "
   ]
  },
  {
   "cell_type": "code",
   "execution_count": 67,
   "id": "e7a335d6",
   "metadata": {},
   "outputs": [
    {
     "data": {
      "text/plain": [
       "array([[12, 15, 17],\n",
       "       [ 1,  9, 10]])"
      ]
     },
     "execution_count": 67,
     "metadata": {},
     "output_type": "execute_result"
    }
   ],
   "source": [
    "np.sort(a, axis = -1)    "
   ]
  },
  {
   "cell_type": "code",
   "execution_count": 68,
   "id": "bc12f2c3",
   "metadata": {},
   "outputs": [
    {
     "data": {
      "text/plain": [
       "array([ 1,  9, 10, 12, 15, 17])"
      ]
     },
     "execution_count": 68,
     "metadata": {},
     "output_type": "execute_result"
    }
   ],
   "source": [
    "np.sort(a, axis = None)    "
   ]
  }
 ],
 "metadata": {
  "kernelspec": {
   "display_name": "Python 3",
   "language": "python",
   "name": "python3"
  },
  "language_info": {
   "codemirror_mode": {
    "name": "ipython",
    "version": 3
   },
   "file_extension": ".py",
   "mimetype": "text/x-python",
   "name": "python",
   "nbconvert_exporter": "python",
   "pygments_lexer": "ipython3",
   "version": "3.13.1"
  }
 },
 "nbformat": 4,
 "nbformat_minor": 5
}
